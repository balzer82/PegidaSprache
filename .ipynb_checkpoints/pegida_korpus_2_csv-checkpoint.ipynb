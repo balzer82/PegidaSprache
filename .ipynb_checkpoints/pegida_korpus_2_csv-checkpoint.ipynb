{
 "metadata": {
  "name": "",
  "signature": "sha256:9fb937f2e1140af5c8ffdaa4c9a4c240fd73df5a9b44ab51a826c62a370179a6"
 },
 "nbformat": 3,
 "nbformat_minor": 0,
 "worksheets": [
  {
   "cells": [
    {
     "cell_type": "code",
     "collapsed": false,
     "input": [
      "with open('pegida_korpus.txt') as f:\n",
      "    content = [x.strip('\\n') for x in f.readlines()]"
     ],
     "language": "python",
     "metadata": {},
     "outputs": [],
     "prompt_number": 1
    },
    {
     "cell_type": "code",
     "collapsed": false,
     "input": [
      "corpus = {}\n",
      "comment = False\n",
      "for line in content:\n",
      "    if line.startswith('2014-') or line.startswith('2015-'):\n",
      "        #print('Date: %s' % line)\n",
      "        date = line\n",
      "    elif line.startswith('#'):\n",
      "        continue\n",
      "    else:\n",
      "        #print('Comment: %s' % line)\n",
      "        comment = line\n",
      "\n",
      "    if comment:\n",
      "        corpus[date] = comment\n",
      "        comment = False"
     ],
     "language": "python",
     "metadata": {},
     "outputs": [],
     "prompt_number": 2
    },
    {
     "cell_type": "code",
     "collapsed": false,
     "input": [
      "import csv"
     ],
     "language": "python",
     "metadata": {},
     "outputs": [],
     "prompt_number": 3
    },
    {
     "cell_type": "code",
     "collapsed": false,
     "input": [
      "writer = csv.writer(open('pegida_korpus.csv', 'wb'))\n",
      "for key, value in corpus.items():\n",
      "    writer.writerow([key, value])"
     ],
     "language": "python",
     "metadata": {},
     "outputs": [],
     "prompt_number": 4
    },
    {
     "cell_type": "code",
     "collapsed": false,
     "input": [],
     "language": "python",
     "metadata": {},
     "outputs": [],
     "prompt_number": 4
    }
   ],
   "metadata": {}
  }
 ]
}